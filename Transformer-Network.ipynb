{
 "cells": [
  {
   "cell_type": "markdown",
   "id": "74d0653b-4e85-47b6-9649-30ae16ce1d41",
   "metadata": {},
   "source": [
    "# Transformer Network from Scratch\n",
    "\n",
    "In this project we'll explore the Transformer architecture, a neural network that takes advantage of parallel processing and allows one to substantially speed up the training process. The Transformer is a gneral improvment upon RNNs, GRUs, and LSTMs. Throughout this project, we will cover the following:\n",
    "\n",
    "* Creating positional encodings to capture sequential relationships in data\n",
    "* Calculating scaled dot-product self-attention with word embeddings\n",
    "* Implementing masked multi-head attention\n",
    "* Building and training a Transformer model\n",
    "* Named entity recognition (NER)\n",
    "* Question answering (QA)"
   ]
  },
  {
   "cell_type": "markdown",
   "id": "244b2ef1-bf5a-466f-af1b-eb033fa63e8e",
   "metadata": {},
   "source": [
    "## Importing Packages"
   ]
  },
  {
   "cell_type": "code",
   "execution_count": 1,
   "id": "1c497174-388f-496b-aec9-adce44698961",
   "metadata": {
    "tags": []
   },
   "outputs": [],
   "source": [
    "import tensorflow as tf\n",
    "import time\n",
    "import numpy as np\n",
    "import matplotlib.pyplot as plt\n",
    "\n",
    "from tensorflow.keras.layers import Embedding, MultiHeadAttention, Dense, Input, Dropout, LayerNormalization\n",
    "from transformers import DistilBertTokenizerFast #, TFDistilBertModel\n",
    "from transformers import TFDistilBertForTokenClassification"
   ]
  },
  {
   "cell_type": "markdown",
   "id": "f5a40a62-c128-4302-b828-7f1b0a0202cd",
   "metadata": {},
   "source": [
    "## Positional Encoding"
   ]
  },
  {
   "cell_type": "code",
   "execution_count": null,
   "id": "f11e5824-2af6-4a6e-a701-26336a307822",
   "metadata": {},
   "outputs": [],
   "source": []
  }
 ],
 "metadata": {
  "kernelspec": {
   "display_name": "Python 3 (ipykernel)",
   "language": "python",
   "name": "python3"
  },
  "language_info": {
   "codemirror_mode": {
    "name": "ipython",
    "version": 3
   },
   "file_extension": ".py",
   "mimetype": "text/x-python",
   "name": "python",
   "nbconvert_exporter": "python",
   "pygments_lexer": "ipython3",
   "version": "3.11.5"
  }
 },
 "nbformat": 4,
 "nbformat_minor": 5
}
